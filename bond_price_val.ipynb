{
 "cells": [
  {
   "cell_type": "code",
   "execution_count": 76,
   "metadata": {},
   "outputs": [],
   "source": [
    "class bond:\n",
    "    def __init__(self, coupone=None, YTM=None, maturity=None, par=None, price=None, term_per_year=2):\n",
    "        self.coupone = coupone\n",
    "        self.maturity = maturity\n",
    "        self.par = par\n",
    "        self.term_per_year = term_per_year\n",
    "\n",
    "        # Ensure at least one of YTM or price is provided\n",
    "        if YTM is None and price is None:\n",
    "            raise ValueError(\"Either YTM or price must be provided.\")\n",
    "\n",
    "        # Calculate YTM if not provided\n",
    "        self.YTM = YTM if YTM is not None else self.calculate_YTM()\n",
    "        \n",
    "        self.cf = self.coupone * self.par / self.term_per_year\n",
    "        self.periodic_rate = self.YTM / self.term_per_year\n",
    "        self.terms = self.maturity * self.term_per_year\n",
    "        \n",
    "        # Calculate price if not provided\n",
    "        self.price = price if price is not None else self.calculate_price()\n",
    "\n",
    "        # Ensure values are set before dependent attributes\n",
    "        if self.coupone is None or self.par is None or self.maturity is None:\n",
    "            raise ValueError(\"Coupon rate, maturity, and par value must be provided.\")\n",
    "\n",
    "        self.macaulay_duration = self.calculate_macaulay_duration()\n",
    "        self.modified_duration = self.calculate_modified_duration()\n",
    "        \n",
    "    def set_YTM(self, YTM):\n",
    "        \"\"\"\n",
    "        Set YTM and update other attributes.\n",
    "        \"\"\"\n",
    "        self.YTM = YTM\n",
    "        self.periodic_rate = self.YTM / self.term_per_year\n",
    "        \n",
    "    def calculate_YTM(self, coupone, maturity, par, price, term_per_year):\n",
    "        \"\"\"\n",
    "        Calculates YTM of a bond.\n",
    "        \"\"\"\n",
    "        # Define the function to solve for\n",
    "        def ytm_eqn(ytm, coupone, maturity, par, price, term_per_year):\n",
    "            return sum([coupone / (1 + ytm / term_per_year) ** i for i in range(1, maturity * term_per_year + 1)]) + \\\n",
    "                   par / (1 + ytm / term_per_year) ** (maturity * term_per_year) - price\n",
    "\n",
    "        # Use a numerical solver to find the root of the equation\n",
    "        from scipy.optimize import newton\n",
    "        return newton(ytm_eqn, 0.05, args=(coupone, maturity, par, price, term_per_year))\n",
    "    \n",
    "    def calculate_price(self, periodic_rate=None, terms=None, cf=None, par=None):\n",
    "        \"\"\"\n",
    "        Calculates bond price with default or new parameters.\n",
    "        \"\"\"\n",
    "        # Use instance attributes if no new values are given\n",
    "        periodic_rate = periodic_rate if periodic_rate is not None else self.periodic_rate\n",
    "        terms = terms if terms is not None else self.terms\n",
    "        cf = cf if cf is not None else self.cf\n",
    "        par = par if par is not None else self.par\n",
    "\n",
    "        return sum([cf / (1 + periodic_rate) ** i for i in range(1, terms + 1)]) + \\\n",
    "               par / (1 + periodic_rate) ** terms\n",
    "\n",
    "    def calculate_dv01(self, bp=1):\n",
    "        \"\"\"\n",
    "        Computes DV01 by shifting yield up/down by 'bp' basis points.\n",
    "        \"\"\"\n",
    "        delta_yield = bp / 10000  # Convert basis points to decimal\n",
    "        delta_periodic_rate = delta_yield / self.term_per_year\n",
    "        new_price = self.calculate_price(periodic_rate=self.periodic_rate + delta_periodic_rate)\n",
    "        return new_price - self.price\n",
    "    \n",
    "    def calculate_macaulay_duration(self):\n",
    "        \"\"\"\n",
    "        Calculates Macaulay duration of a bond.\n",
    "        \"\"\"\n",
    "        md =  sum([i * self.cf / (1 + self.periodic_rate)**i for i in range(1, self.terms + 1)]) + \\\n",
    "                self.terms * self.par/(1+self.periodic_rate)**self.terms\n",
    "        md = md/self.price\n",
    "        return md/self.term_per_year\n",
    "    def calculate_modified_duration(self):\n",
    "        \"\"\"\n",
    "        Calculates modified duration of a bond.\n",
    "        \"\"\"\n",
    "        return self.macaulay_duration/(1+self.periodic_rate)"
   ]
  },
  {
   "cell_type": "code",
   "execution_count": 28,
   "metadata": {},
   "outputs": [
    {
     "name": "stdout",
     "output_type": "stream",
     "text": [
      "YTM: 6%\tcoupon: 0.09\tMaturity:5  \tDV01: 0.0459\tPrice: 112.7953\n",
      "YTM: 6%\tcoupon: 0.09\tMaturity:25  \tDV01: 0.1653\tPrice: 138.5946\n",
      "YTM: 6%\tcoupon: 0.06\tMaturity:5  \tDV01: 0.0427\tPrice: 100.0000\n",
      "YTM: 6%\tcoupon: 0.06\tMaturity:25  \tDV01: 0.1286\tPrice: 100.0000\n",
      "YTM: 6%\tcoupon: 0\tMaturity:5  \tDV01: 0.0361\tPrice: 74.4094\n",
      "YTM: 6%\tcoupon: 0\tMaturity:25  \tDV01: 0.0554\tPrice: 22.8107\n",
      "\n",
      "YTM: 7%\tcoupon: 0.09\tMaturity:5  \tDV01: 0.0437\tPrice: 108.3166\n",
      "YTM: 7%\tcoupon: 0.09\tMaturity:25  \tDV01: 0.1384\tPrice: 123.4556\n",
      "YTM: 7%\tcoupon: 0.06\tMaturity:5  \tDV01: 0.0405\tPrice: 95.8417\n",
      "YTM: 7%\tcoupon: 0.06\tMaturity:25  \tDV01: 0.1067\tPrice: 88.2722\n",
      "YTM: 7%\tcoupon: 0\tMaturity:5  \tDV01: 0.0342\tPrice: 70.8919\n",
      "YTM: 7%\tcoupon: 0\tMaturity:25  \tDV01: 0.0432\tPrice: 17.9053\n",
      "\n",
      "YTM: 8%\tcoupon: 0.09\tMaturity:5  \tDV01: 0.0416\tPrice: 104.0554\n",
      "YTM: 8%\tcoupon: 0.09\tMaturity:25  \tDV01: 0.1166\tPrice: 110.7411\n",
      "YTM: 8%\tcoupon: 0.06\tMaturity:5  \tDV01: 0.0385\tPrice: 91.8891\n",
      "YTM: 8%\tcoupon: 0.06\tMaturity:25  \tDV01: 0.0890\tPrice: 78.5178\n",
      "YTM: 8%\tcoupon: 0\tMaturity:5  \tDV01: 0.0325\tPrice: 67.5564\n",
      "YTM: 8%\tcoupon: 0\tMaturity:25  \tDV01: 0.0338\tPrice: 14.0713\n",
      "\n",
      "YTM: 9%\tcoupon: 0.09\tMaturity:5  \tDV01: 0.0396\tPrice: 100.0000\n",
      "YTM: 9%\tcoupon: 0.09\tMaturity:25  \tDV01: 0.0988\tPrice: 100.0000\n",
      "YTM: 9%\tcoupon: 0.06\tMaturity:5  \tDV01: 0.0366\tPrice: 88.1309\n",
      "YTM: 9%\tcoupon: 0.06\tMaturity:25  \tDV01: 0.0747\tPrice: 70.3570\n",
      "YTM: 9%\tcoupon: 0\tMaturity:5  \tDV01: 0.0308\tPrice: 64.3928\n",
      "YTM: 9%\tcoupon: 0\tMaturity:25  \tDV01: 0.0265\tPrice: 11.0710\n",
      "\n",
      "YTM: 10%\tcoupon: 0.09\tMaturity:5  \tDV01: 0.0377\tPrice: 96.1391\n",
      "YTM: 10%\tcoupon: 0.09\tMaturity:25  \tDV01: 0.0842\tPrice: 90.8720\n",
      "YTM: 10%\tcoupon: 0.06\tMaturity:5  \tDV01: 0.0349\tPrice: 84.5565\n",
      "YTM: 10%\tcoupon: 0.06\tMaturity:25  \tDV01: 0.0631\tPrice: 63.4881\n",
      "YTM: 10%\tcoupon: 0\tMaturity:5  \tDV01: 0.0292\tPrice: 61.3913\n",
      "YTM: 10%\tcoupon: 0\tMaturity:25  \tDV01: 0.0208\tPrice: 8.7204\n",
      "\n"
     ]
    }
   ],
   "source": [
    "bond1 = bond(0.09, 0.09, 5, 100)\n",
    "bond2 = bond(0.09, 0.09, 25, 100)\n",
    "bond3 = bond(0.06, 0.09, 5, 100)\n",
    "bond4 = bond(0.06, 0.09, 25, 100)\n",
    "bond5 = bond(0, 0.09, 5, 100)\n",
    "bond6 = bond(0, 0.09, 25, 100)\n",
    "bond_portfolio = [bond1, bond2, bond3, bond4, bond5, bond6]\n",
    "for y in range(6, 11):\n",
    "    for x in bond_portfolio:\n",
    "        x.set_YTM(y/100)\n",
    "        print(f\"YTM: {y}%\\tcoupon: {x.coupone}\\tMaturity:{x.maturity}  \\tDV01: {x.calculate_dv01():.4f}\\tPrice: {x.calculate_price():.4f}\")\n",
    "    print()"
   ]
  },
  {
   "cell_type": "code",
   "execution_count": 41,
   "metadata": {},
   "outputs": [
    {
     "name": "stdout",
     "output_type": "stream",
     "text": [
      "100.00000000000006\n"
     ]
    }
   ],
   "source": [
    "bond1 = bond(0.09, 0.09, 5, 100)\n",
    "print(bond1.price)"
   ]
  },
  {
   "cell_type": "code",
   "execution_count": null,
   "metadata": {},
   "outputs": [
    {
     "name": "stdout",
     "output_type": "stream",
     "text": [
      "change in bp: -300\tcoupon: 0.09\tMaturity:5  \tDV01: 12.7953 \tpercentage change in price: 12.80%\n",
      "change in bp: -300\tcoupon: 0.09\tMaturity:25  \tDV01: 38.5946 \tpercentage change in price: 38.59%\n",
      "change in bp: -300\tcoupon: 0.06\tMaturity:5  \tDV01: 11.8691 \tpercentage change in price: 13.47%\n",
      "change in bp: -300\tcoupon: 0.06\tMaturity:25  \tDV01: 29.6430 \tpercentage change in price: 42.13%\n",
      "change in bp: -300\tcoupon: 0\tMaturity:5  \tDV01: 10.0166 \tpercentage change in price: 15.56%\n",
      "change in bp: -300\tcoupon: 0\tMaturity:25  \tDV01: 11.7397 \tpercentage change in price: 106.04%\n",
      "\n",
      "change in bp: -200\tcoupon: 0.09\tMaturity:5  \tDV01: 8.3166 \tpercentage change in price: 8.32%\n",
      "change in bp: -200\tcoupon: 0.09\tMaturity:25  \tDV01: 23.4556 \tpercentage change in price: 23.46%\n",
      "change in bp: -200\tcoupon: 0.06\tMaturity:5  \tDV01: 7.7108 \tpercentage change in price: 8.75%\n",
      "change in bp: -200\tcoupon: 0.06\tMaturity:25  \tDV01: 17.9152 \tpercentage change in price: 25.46%\n",
      "change in bp: -200\tcoupon: 0\tMaturity:5  \tDV01: 6.4991 \tpercentage change in price: 10.09%\n",
      "change in bp: -200\tcoupon: 0\tMaturity:25  \tDV01: 6.8344 \tpercentage change in price: 61.73%\n",
      "\n",
      "change in bp: -100\tcoupon: 0.09\tMaturity:5  \tDV01: 4.0554 \tpercentage change in price: 4.06%\n",
      "change in bp: -100\tcoupon: 0.09\tMaturity:25  \tDV01: 10.7411 \tpercentage change in price: 10.74%\n",
      "change in bp: -100\tcoupon: 0.06\tMaturity:5  \tDV01: 3.7582 \tpercentage change in price: 4.26%\n",
      "change in bp: -100\tcoupon: 0.06\tMaturity:25  \tDV01: 8.1608 \tpercentage change in price: 11.60%\n",
      "change in bp: -100\tcoupon: 0\tMaturity:5  \tDV01: 3.1636 \tpercentage change in price: 4.91%\n",
      "change in bp: -100\tcoupon: 0\tMaturity:25  \tDV01: 3.0003 \tpercentage change in price: 27.10%\n",
      "\n",
      "change in bp: -50\tcoupon: 0.09\tMaturity:5  \tDV01: 2.0027 \tpercentage change in price: 2.00%\n",
      "change in bp: -50\tcoupon: 0.09\tMaturity:25  \tDV01: 5.1483 \tpercentage change in price: 5.15%\n",
      "change in bp: -50\tcoupon: 0.06\tMaturity:5  \tDV01: 1.8555 \tpercentage change in price: 2.11%\n",
      "change in bp: -50\tcoupon: 0.06\tMaturity:25  \tDV01: 3.9017 \tpercentage change in price: 5.55%\n",
      "change in bp: -50\tcoupon: 0\tMaturity:5  \tDV01: 1.5610 \tpercentage change in price: 2.42%\n",
      "change in bp: -50\tcoupon: 0\tMaturity:25  \tDV01: 1.4085 \tpercentage change in price: 12.72%\n",
      "\n",
      "change in bp: -10\tcoupon: 0.09\tMaturity:5  \tDV01: 0.3966 \tpercentage change in price: 0.40%\n",
      "change in bp: -10\tcoupon: 0.09\tMaturity:25  \tDV01: 0.9962 \tpercentage change in price: 1.00%\n",
      "change in bp: -10\tcoupon: 0.06\tMaturity:5  \tDV01: 0.3674 \tpercentage change in price: 0.42%\n",
      "change in bp: -10\tcoupon: 0.06\tMaturity:25  \tDV01: 0.7535 \tpercentage change in price: 1.07%\n",
      "change in bp: -10\tcoupon: 0\tMaturity:5  \tDV01: 0.3089 \tpercentage change in price: 0.48%\n",
      "change in bp: -10\tcoupon: 0\tMaturity:25  \tDV01: 0.2681 \tpercentage change in price: 2.42%\n",
      "\n",
      "change in bp: -1\tcoupon: 0.09\tMaturity:5  \tDV01: 0.0396 \tpercentage change in price: 0.04%\n",
      "change in bp: -1\tcoupon: 0.09\tMaturity:25  \tDV01: 0.0989 \tpercentage change in price: 0.10%\n",
      "change in bp: -1\tcoupon: 0.06\tMaturity:5  \tDV01: 0.0367 \tpercentage change in price: 0.04%\n",
      "change in bp: -1\tcoupon: 0.06\tMaturity:25  \tDV01: 0.0748 \tpercentage change in price: 0.11%\n",
      "change in bp: -1\tcoupon: 0\tMaturity:5  \tDV01: 0.0308 \tpercentage change in price: 0.05%\n",
      "change in bp: -1\tcoupon: 0\tMaturity:25  \tDV01: 0.0265 \tpercentage change in price: 0.24%\n",
      "\n",
      "change in bp: 1\tcoupon: 0.09\tMaturity:5  \tDV01: -0.0396 \tpercentage change in price: -0.04%\n",
      "change in bp: 1\tcoupon: 0.09\tMaturity:25  \tDV01: -0.0987 \tpercentage change in price: -0.10%\n",
      "change in bp: 1\tcoupon: 0.06\tMaturity:5  \tDV01: -0.0366 \tpercentage change in price: -0.04%\n",
      "change in bp: 1\tcoupon: 0.06\tMaturity:25  \tDV01: -0.0746 \tpercentage change in price: -0.11%\n",
      "change in bp: 1\tcoupon: 0\tMaturity:5  \tDV01: -0.0308 \tpercentage change in price: -0.05%\n",
      "change in bp: 1\tcoupon: 0\tMaturity:25  \tDV01: -0.0265 \tpercentage change in price: -0.24%\n",
      "\n",
      "change in bp: 10\tcoupon: 0.09\tMaturity:5  \tDV01: -0.3947 \tpercentage change in price: -0.39%\n",
      "change in bp: 10\tcoupon: 0.09\tMaturity:25  \tDV01: -0.9801 \tpercentage change in price: -0.98%\n",
      "change in bp: 10\tcoupon: 0.06\tMaturity:5  \tDV01: -0.3655 \tpercentage change in price: -0.41%\n",
      "change in bp: 10\tcoupon: 0.06\tMaturity:25  \tDV01: -0.7406 \tpercentage change in price: -1.05%\n",
      "change in bp: 10\tcoupon: 0\tMaturity:5  \tDV01: -0.3073 \tpercentage change in price: -0.48%\n",
      "change in bp: 10\tcoupon: 0\tMaturity:25  \tDV01: -0.2617 \tpercentage change in price: -2.36%\n",
      "\n",
      "change in bp: 50\tcoupon: 0.09\tMaturity:5  \tDV01: -1.9541 \tpercentage change in price: -1.95%\n",
      "change in bp: 50\tcoupon: 0.09\tMaturity:25  \tDV01: -4.7461 \tpercentage change in price: -4.75%\n",
      "change in bp: 50\tcoupon: 0.06\tMaturity:5  \tDV01: -1.8095 \tpercentage change in price: -2.05%\n",
      "change in bp: 50\tcoupon: 0.06\tMaturity:25  \tDV01: -3.5796 \tpercentage change in price: -5.09%\n",
      "change in bp: 50\tcoupon: 0\tMaturity:5  \tDV01: -1.5204 \tpercentage change in price: -2.36%\n",
      "change in bp: 50\tcoupon: 0\tMaturity:25  \tDV01: -1.2467 \tpercentage change in price: -11.26%\n",
      "\n",
      "change in bp: 100\tcoupon: 0.09\tMaturity:5  \tDV01: -3.8609 \tpercentage change in price: -3.86%\n",
      "change in bp: 100\tcoupon: 0.09\tMaturity:25  \tDV01: -9.1280 \tpercentage change in price: -9.13%\n",
      "change in bp: 100\tcoupon: 0.06\tMaturity:5  \tDV01: -3.5744 \tpercentage change in price: -4.06%\n",
      "change in bp: 100\tcoupon: 0.06\tMaturity:25  \tDV01: -6.8688 \tpercentage change in price: -9.76%\n",
      "change in bp: 100\tcoupon: 0\tMaturity:5  \tDV01: -3.0014 \tpercentage change in price: -4.66%\n",
      "change in bp: 100\tcoupon: 0\tMaturity:25  \tDV01: -2.3506 \tpercentage change in price: -21.23%\n",
      "\n",
      "change in bp: 200\tcoupon: 0.09\tMaturity:5  \tDV01: -7.5376 \tpercentage change in price: -7.54%\n",
      "change in bp: 200\tcoupon: 0.09\tMaturity:25  \tDV01: -16.9315 \tpercentage change in price: -16.93%\n",
      "change in bp: 200\tcoupon: 0.06\tMaturity:5  \tDV01: -6.9750 \tpercentage change in price: -7.91%\n",
      "change in bp: 200\tcoupon: 0.06\tMaturity:25  \tDV01: -12.6858 \tpercentage change in price: -18.03%\n",
      "change in bp: 200\tcoupon: 0\tMaturity:5  \tDV01: -5.8497 \tpercentage change in price: -9.08%\n",
      "change in bp: 200\tcoupon: 0\tMaturity:25  \tDV01: -4.1943 \tpercentage change in price: -37.89%\n",
      "\n",
      "change in bp: 300\tcoupon: 0.09\tMaturity:5  \tDV01: -11.0401 \tpercentage change in price: -11.04%\n",
      "change in bp: 300\tcoupon: 0.09\tMaturity:25  \tDV01: -23.6428 \tpercentage change in price: -23.64%\n",
      "change in bp: 300\tcoupon: 0.06\tMaturity:5  \tDV01: -10.2112 \tpercentage change in price: -11.59%\n",
      "change in bp: 300\tcoupon: 0.06\tMaturity:25  \tDV01: -17.6426 \tpercentage change in price: -25.08%\n",
      "change in bp: 300\tcoupon: 0\tMaturity:5  \tDV01: -8.5533 \tpercentage change in price: -13.28%\n",
      "change in bp: 300\tcoupon: 0\tMaturity:25  \tDV01: -5.6421 \tpercentage change in price: -50.96%\n",
      "\n"
     ]
    }
   ],
   "source": [
    "ChangeInBP = [-300, -200, -100, -50, -10, -1, 1, 10, 50, 100, 200, 300]\n",
    "bond1 = bond(0.09, 0.09, 5, 100)\n",
    "bond2 = bond(0.09, 0.09, 25, 100)\n",
    "bond3 = bond(0.06, 0.09, 5, 100)\n",
    "bond4 = bond(0.06, 0.09, 25, 100)\n",
    "bond5 = bond(0, 0.09, 5, 100)\n",
    "bond6 = bond(0, 0.09, 25, 100)\n",
    "bond_portfolio = [bond1, bond2, bond3, bond4, bond5, bond6]\n",
    "for bp in ChangeInBP:\n",
    "    for x in bond_portfolio:\n",
    "        print(f\"change in bp: {bp}\\tcoupon: {x.coupone}\\tMaturity:{x.maturity}  \\tDV01: {x.calculate_dv01(bp = bp):.4f} \\tpercentage change in price: {x.calculate_dv01(bp = bp)/x.price*100 :.2f}%\")\n",
    "    print()"
   ]
  },
  {
   "cell_type": "code",
   "execution_count": 66,
   "metadata": {},
   "outputs": [
    {
     "name": "stdout",
     "output_type": "stream",
     "text": [
      "5-year  \t9.0%  \tInitial Price: 100.0000  \tnew price: 99.9604 DV01:-0.0396\n",
      "25-year  \t9.0%  \tInitial Price: 100.0000  \tnew price: 99.9013 DV01:-0.0987\n",
      "5-year  \t6.0%  \tInitial Price: 88.1309  \tnew price: 88.0943 DV01:-0.0366\n",
      "25-year  \t6.0%  \tInitial Price: 70.3570  \tnew price: 70.2824 DV01:-0.0746\n",
      "5-year  \t0%  \tInitial Price: 64.3928  \tnew price: 64.3620 DV01:-0.0308\n",
      "25-year  \t0%  \tInitial Price: 11.0710  \tnew price: 11.0445 DV01:-0.0265\n"
     ]
    }
   ],
   "source": [
    "bond1 = bond(0.09, 0.09, 5, 100)\n",
    "bond2 = bond(0.09, 0.09, 25, 100)\n",
    "bond3 = bond(0.06, 0.09, 5, 100)\n",
    "bond4 = bond(0.06, 0.09, 25, 100)\n",
    "bond5 = bond(0, 0.09, 5, 100)\n",
    "bond6 = bond(0, 0.09, 25, 100)\n",
    "bond_portfolio = [bond1, bond2, bond3, bond4, bond5, bond6]\n",
    "for b in bond_portfolio:\n",
    "    print(f'{b.maturity}-year  \\t{b.coupone*100}%  \\tInitial Price: {b.price:.4f}  \\tnew price: {b.calculate_price(0.0901/2):.4f} DV01:{b.calculate_dv01():.4f}')"
   ]
  },
  {
   "cell_type": "code",
   "execution_count": 77,
   "metadata": {},
   "outputs": [
    {
     "name": "stdout",
     "output_type": "stream",
     "text": [
      "4.134395247540063\n",
      "3.956359088555084\n"
     ]
    }
   ],
   "source": [
    "bond4p5 = bond(coupone=0.09, YTM=0.09, maturity=5, par=100)\n",
    "print(bond4p5.macaulay_duration)\n",
    "print(bond4p5.modified_duration)"
   ]
  },
  {
   "cell_type": "code",
   "execution_count": null,
   "metadata": {},
   "outputs": [
    {
     "name": "stdout",
     "output_type": "stream",
     "text": [
      "0.036298953871373385\n",
      "0.03672668738152396\n"
     ]
    }
   ],
   "source": [
    "q2bondA = bond(0.08, 0.08, 2, 100, 100)\n",
    "q2bondB = bond(0.09, 0.08, 2, 100, 100)\n",
    "\n",
    "print(q2bondA.calculate_dv01())\n",
    "print(q2bondB.calculate_dv01())"
   ]
  },
  {
   "cell_type": "code",
   "execution_count": null,
   "metadata": {},
   "outputs": [],
   "source": []
  }
 ],
 "metadata": {
  "kernelspec": {
   "display_name": "fre7773",
   "language": "python",
   "name": "python3"
  },
  "language_info": {
   "codemirror_mode": {
    "name": "ipython",
    "version": 3
   },
   "file_extension": ".py",
   "mimetype": "text/x-python",
   "name": "python",
   "nbconvert_exporter": "python",
   "pygments_lexer": "ipython3",
   "version": "3.13.0"
  }
 },
 "nbformat": 4,
 "nbformat_minor": 2
}
