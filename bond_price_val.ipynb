{
 "cells": [
  {
   "cell_type": "code",
   "execution_count": 1,
   "metadata": {},
   "outputs": [],
   "source": [
    "import math\n",
    "from scipy.optimize import newton\n",
    "\n",
    "class Bond:\n",
    "    def __init__(self, coupon_rate=None, ytm=None, maturity=None, par=None,\n",
    "                 price=None, terms_per_year=2, init_guess=0.05):\n",
    "        \"\"\"\n",
    "        Bond class that can be instantiated with EITHER a specified yield to maturity\n",
    "        OR a specified price (but not both missing). The other will be computed.\n",
    "\n",
    "        :param coupon_rate: Annual coupon rate in decimal form (e.g. 0.05 for 5%)\n",
    "        :param ytm: Annual yield-to-maturity in decimal form\n",
    "        :param maturity: Maturity in years\n",
    "        :param par: Par (face) value of the bond\n",
    "        :param price: Current market price of the bond\n",
    "        :param terms_per_year: Number of coupon periods per year (e.g. 2 for semiannual)\n",
    "        :param init_guess: Initial guess for the YTM solver\n",
    "        \"\"\"\n",
    "\n",
    "        if (coupon_rate is None or par is None or maturity is None):\n",
    "            raise ValueError(\"coupon_rate, par, and maturity must be provided.\")\n",
    "\n",
    "        self.coupon_rate = coupon_rate\n",
    "        self.maturity = maturity\n",
    "        self.par = par\n",
    "        self.terms_per_year = terms_per_year\n",
    "        self.init_guess = init_guess\n",
    "\n",
    "        # The coupon payment per period\n",
    "        self.coupon_payment = (self.coupon_rate * self.par) / self.terms_per_year\n",
    "\n",
    "        # The number of total coupon periods\n",
    "        self.total_periods = int(self.maturity * self.terms_per_year)\n",
    "\n",
    "        # If neither ytm nor price is given, that's an error\n",
    "        if ytm is None and price is None:\n",
    "            raise ValueError(\"Either ytm or price must be provided.\")\n",
    "\n",
    "        # If YTM is provided, store it; else compute from the given price\n",
    "        if ytm is not None:\n",
    "            self.ytm_annual = ytm\n",
    "        else:\n",
    "            self.ytm_annual = self._calculate_ytm_from_price(price)\n",
    "\n",
    "        # Now set the price accordingly if not given\n",
    "        if price is None:\n",
    "            self.price = self._calculate_price_from_ytm(self.ytm_annual)\n",
    "        else:\n",
    "            self.price = price\n",
    "\n",
    "        # Precompute these\n",
    "        self.macaulay_duration = self._calculate_macaulay_duration()\n",
    "        self.modified_duration = self._calculate_modified_duration()\n",
    "        self.convexity = self._calculate_convexity()\n",
    "\n",
    "    def _calculate_ytm_from_price(self, price):\n",
    "        \"\"\"\n",
    "        Numerically solve for annual YTM given a bond price and par/coupon details.\n",
    "        \"\"\"\n",
    "\n",
    "        def ytm_equation(ytm_guess):\n",
    "            \"\"\"\n",
    "            Returns f(ytm_guess) so that we want f(ytm_guess) = 0.\n",
    "            The present value of all coupons + redemption at par - price = 0\n",
    "            \"\"\"\n",
    "            per_rate = ytm_guess / self.terms_per_year\n",
    "            # discount each coupon\n",
    "            pv_coupons = sum(self.coupon_payment / (1+per_rate)**i\n",
    "                             for i in range(1, self.total_periods+1))\n",
    "            # discount the redemption\n",
    "            pv_par = self.par / (1+per_rate)**(self.total_periods)\n",
    "            return pv_coupons + pv_par - price\n",
    "\n",
    "        # Solve via newton using initial guess\n",
    "        ytm_solved = newton(ytm_equation, self.init_guess)\n",
    "        return ytm_solved\n",
    "\n",
    "    def _calculate_price_from_ytm(self, ytm_annual):\n",
    "        \"\"\"\n",
    "        Compute the bond's price from the given annual YTM.\n",
    "        \"\"\"\n",
    "        per_rate = ytm_annual / self.terms_per_year\n",
    "        # discount each coupon\n",
    "        pv_coupons = sum(self.coupon_payment / (1+per_rate)**i\n",
    "                         for i in range(1, self.total_periods+1))\n",
    "        # discount redemption\n",
    "        pv_par = self.par / (1+per_rate)**(self.total_periods)\n",
    "        return pv_coupons + pv_par\n",
    "\n",
    "    def set_ytm(self, new_ytm):\n",
    "        \"\"\"\n",
    "        Update the YTM, then recalc price, durations, convexity.\n",
    "        \"\"\"\n",
    "        self.ytm_annual = new_ytm\n",
    "        self.price = self._calculate_price_from_ytm(new_ytm)\n",
    "        self.macaulay_duration = self._calculate_macaulay_duration()\n",
    "        self.modified_duration = self._calculate_modified_duration()\n",
    "        self.convexity = self._calculate_convexity()\n",
    "\n",
    "    def _calculate_macaulay_duration(self):\n",
    "        \"\"\"\n",
    "        Calculates Macaulay duration in *years*.\n",
    "        \"\"\"\n",
    "        per_rate = self.ytm_annual / self.terms_per_year\n",
    "        # Weighted sum of times\n",
    "        numerator = 0.0\n",
    "        for i in range(1, self.total_periods+1):\n",
    "            t = i / self.terms_per_year  # in years\n",
    "            cf = self.coupon_payment\n",
    "            numerator += t * cf / (1+per_rate)**i\n",
    "\n",
    "        # final redemption\n",
    "        numerator += (self.maturity) * self.par / (1+per_rate)**(self.total_periods)\n",
    "\n",
    "        return numerator / self.price\n",
    "\n",
    "    def _calculate_modified_duration(self):\n",
    "        \"\"\"\n",
    "        Modified duration = Macaulay duration / (1 + yield/periods_per_year).\n",
    "        \"\"\"\n",
    "        per_rate = self.ytm_annual / self.terms_per_year\n",
    "        return self.macaulay_duration / (1 + per_rate)\n",
    "\n",
    "    def dv01(self, bp=1):\n",
    "        \"\"\"\n",
    "        Compute the change in price for a 1 bp shift in YTM.\n",
    "        Typically DV01 = - (partial derivative of price w.r.t. yield).\n",
    "        But here we do a discrete approximation.\n",
    "        \"\"\"\n",
    "        delta_yield = bp / 10000  # 1 basis point in decimal\n",
    "        bumped_ytm = self.ytm_annual + delta_yield\n",
    "        new_price = self._calculate_price_from_ytm(bumped_ytm)\n",
    "        return new_price - self.price\n",
    "\n",
    "    def _calculate_convexity(self):\n",
    "        \"\"\"\n",
    "        Classical convexity measure in continuous compounding sense.\n",
    "        Here we do discrete approximation:\n",
    "          sum( t*(t+1)*CF / (1+y/term)^t+2 ) / Price\n",
    "        plus final redemption.\n",
    "        Then scale if needed to 'annualize'.\n",
    "        \"\"\"\n",
    "        per_rate = self.ytm_annual / self.terms_per_year\n",
    "        numerator = 0.0\n",
    "        for i in range(1, self.total_periods+1):\n",
    "            numerator += i*(i+1)*self.coupon_payment / (1+per_rate)**(i+2)\n",
    "\n",
    "        numerator += self.total_periods * (self.total_periods + 1) * self.par / (1+per_rate)**(self.total_periods+2)\n",
    "\n",
    "        return numerator / (self.price * (self.terms_per_year**2))\n"
   ]
  },
  {
   "cell_type": "code",
   "execution_count": 2,
   "metadata": {},
   "outputs": [
    {
     "name": "stdout",
     "output_type": "stream",
     "text": [
      "YTM: 6%\tcoupon: 0.09\tMaturity:5  \tDV01: -0.0459\tPrice: 112.7953\n",
      "YTM: 6%\tcoupon: 0.09\tMaturity:25  \tDV01: -0.1651\tPrice: 138.5946\n",
      "YTM: 6%\tcoupon: 0.06\tMaturity:5  \tDV01: -0.0426\tPrice: 100.0000\n",
      "YTM: 6%\tcoupon: 0.06\tMaturity:25  \tDV01: -0.1285\tPrice: 100.0000\n",
      "YTM: 6%\tcoupon: 0\tMaturity:5  \tDV01: -0.0361\tPrice: 74.4094\n",
      "YTM: 6%\tcoupon: 0\tMaturity:25  \tDV01: -0.0553\tPrice: 22.8107\n",
      "\n",
      "YTM: 7%\tcoupon: 0.09\tMaturity:5  \tDV01: -0.0437\tPrice: 108.3166\n",
      "YTM: 7%\tcoupon: 0.09\tMaturity:25  \tDV01: -0.1383\tPrice: 123.4556\n",
      "YTM: 7%\tcoupon: 0.06\tMaturity:5  \tDV01: -0.0405\tPrice: 95.8417\n",
      "YTM: 7%\tcoupon: 0.06\tMaturity:25  \tDV01: -0.1066\tPrice: 88.2722\n",
      "YTM: 7%\tcoupon: 0\tMaturity:5  \tDV01: -0.0342\tPrice: 70.8919\n",
      "YTM: 7%\tcoupon: 0\tMaturity:25  \tDV01: -0.0432\tPrice: 17.9053\n",
      "\n",
      "YTM: 8%\tcoupon: 0.09\tMaturity:5  \tDV01: -0.0416\tPrice: 104.0554\n",
      "YTM: 8%\tcoupon: 0.09\tMaturity:25  \tDV01: -0.1165\tPrice: 110.7411\n",
      "YTM: 8%\tcoupon: 0.06\tMaturity:5  \tDV01: -0.0385\tPrice: 91.8891\n",
      "YTM: 8%\tcoupon: 0.06\tMaturity:25  \tDV01: -0.0889\tPrice: 78.5178\n",
      "YTM: 8%\tcoupon: 0\tMaturity:5  \tDV01: -0.0325\tPrice: 67.5564\n",
      "YTM: 8%\tcoupon: 0\tMaturity:25  \tDV01: -0.0338\tPrice: 14.0713\n",
      "\n",
      "YTM: 9%\tcoupon: 0.09\tMaturity:5  \tDV01: -0.0396\tPrice: 100.0000\n",
      "YTM: 9%\tcoupon: 0.09\tMaturity:25  \tDV01: -0.0987\tPrice: 100.0000\n",
      "YTM: 9%\tcoupon: 0.06\tMaturity:5  \tDV01: -0.0366\tPrice: 88.1309\n",
      "YTM: 9%\tcoupon: 0.06\tMaturity:25  \tDV01: -0.0746\tPrice: 70.3570\n",
      "YTM: 9%\tcoupon: 0\tMaturity:5  \tDV01: -0.0308\tPrice: 64.3928\n",
      "YTM: 9%\tcoupon: 0\tMaturity:25  \tDV01: -0.0265\tPrice: 11.0710\n",
      "\n",
      "YTM: 10%\tcoupon: 0.09\tMaturity:5  \tDV01: -0.0377\tPrice: 96.1391\n",
      "YTM: 10%\tcoupon: 0.09\tMaturity:25  \tDV01: -0.0842\tPrice: 90.8720\n",
      "YTM: 10%\tcoupon: 0.06\tMaturity:5  \tDV01: -0.0349\tPrice: 84.5565\n",
      "YTM: 10%\tcoupon: 0.06\tMaturity:25  \tDV01: -0.0630\tPrice: 63.4881\n",
      "YTM: 10%\tcoupon: 0\tMaturity:5  \tDV01: -0.0292\tPrice: 61.3913\n",
      "YTM: 10%\tcoupon: 0\tMaturity:25  \tDV01: -0.0207\tPrice: 8.7204\n",
      "\n"
     ]
    }
   ],
   "source": [
    "Bond1 = Bond(0.09, 0.09, 5, 100)\n",
    "Bond2 = Bond(0.09, 0.09, 25, 100)\n",
    "Bond3 = Bond(0.06, 0.09, 5, 100)\n",
    "Bond4 = Bond(0.06, 0.09, 25, 100)\n",
    "Bond5 = Bond(0, 0.09, 5, 100)\n",
    "Bond6 = Bond(0, 0.09, 25, 100)\n",
    "Bond_portfolio = [Bond1, Bond2, Bond3, Bond4, Bond5, Bond6]\n",
    "for y in range(6, 11):\n",
    "    for x in Bond_portfolio:\n",
    "        x.set_ytm(y/100)\n",
    "        print(f\"YTM: {y}%\\tcoupon: {x.coupon_rate}\\tMaturity:{x.maturity}  \\tDV01: {x.dv01():.4f}\\tPrice: {x.price:.4f}\")\n",
    "    print()"
   ]
  },
  {
   "cell_type": "code",
   "execution_count": 3,
   "metadata": {},
   "outputs": [
    {
     "name": "stdout",
     "output_type": "stream",
     "text": [
      "change in bp: -300\tcoupon: 0.09\tMaturity:5  \tDV01: 12.7953 \tpercentage change in price: 12.80%\n",
      "change in bp: -300\tcoupon: 0.09\tMaturity:25  \tDV01: 38.5946 \tpercentage change in price: 38.59%\n",
      "change in bp: -300\tcoupon: 0.06\tMaturity:5  \tDV01: 11.8691 \tpercentage change in price: 13.47%\n",
      "change in bp: -300\tcoupon: 0.06\tMaturity:25  \tDV01: 29.6430 \tpercentage change in price: 42.13%\n",
      "change in bp: -300\tcoupon: 0\tMaturity:5  \tDV01: 10.0166 \tpercentage change in price: 15.56%\n",
      "change in bp: -300\tcoupon: 0\tMaturity:25  \tDV01: 11.7397 \tpercentage change in price: 106.04%\n",
      "\n",
      "change in bp: -200\tcoupon: 0.09\tMaturity:5  \tDV01: 8.3166 \tpercentage change in price: 8.32%\n",
      "change in bp: -200\tcoupon: 0.09\tMaturity:25  \tDV01: 23.4556 \tpercentage change in price: 23.46%\n",
      "change in bp: -200\tcoupon: 0.06\tMaturity:5  \tDV01: 7.7108 \tpercentage change in price: 8.75%\n",
      "change in bp: -200\tcoupon: 0.06\tMaturity:25  \tDV01: 17.9152 \tpercentage change in price: 25.46%\n",
      "change in bp: -200\tcoupon: 0\tMaturity:5  \tDV01: 6.4991 \tpercentage change in price: 10.09%\n",
      "change in bp: -200\tcoupon: 0\tMaturity:25  \tDV01: 6.8344 \tpercentage change in price: 61.73%\n",
      "\n",
      "change in bp: -100\tcoupon: 0.09\tMaturity:5  \tDV01: 4.0554 \tpercentage change in price: 4.06%\n",
      "change in bp: -100\tcoupon: 0.09\tMaturity:25  \tDV01: 10.7411 \tpercentage change in price: 10.74%\n",
      "change in bp: -100\tcoupon: 0.06\tMaturity:5  \tDV01: 3.7582 \tpercentage change in price: 4.26%\n",
      "change in bp: -100\tcoupon: 0.06\tMaturity:25  \tDV01: 8.1608 \tpercentage change in price: 11.60%\n",
      "change in bp: -100\tcoupon: 0\tMaturity:5  \tDV01: 3.1636 \tpercentage change in price: 4.91%\n",
      "change in bp: -100\tcoupon: 0\tMaturity:25  \tDV01: 3.0003 \tpercentage change in price: 27.10%\n",
      "\n",
      "change in bp: -50\tcoupon: 0.09\tMaturity:5  \tDV01: 2.0027 \tpercentage change in price: 2.00%\n",
      "change in bp: -50\tcoupon: 0.09\tMaturity:25  \tDV01: 5.1483 \tpercentage change in price: 5.15%\n",
      "change in bp: -50\tcoupon: 0.06\tMaturity:5  \tDV01: 1.8555 \tpercentage change in price: 2.11%\n",
      "change in bp: -50\tcoupon: 0.06\tMaturity:25  \tDV01: 3.9017 \tpercentage change in price: 5.55%\n",
      "change in bp: -50\tcoupon: 0\tMaturity:5  \tDV01: 1.5610 \tpercentage change in price: 2.42%\n",
      "change in bp: -50\tcoupon: 0\tMaturity:25  \tDV01: 1.4085 \tpercentage change in price: 12.72%\n",
      "\n",
      "change in bp: -10\tcoupon: 0.09\tMaturity:5  \tDV01: 0.3966 \tpercentage change in price: 0.40%\n",
      "change in bp: -10\tcoupon: 0.09\tMaturity:25  \tDV01: 0.9962 \tpercentage change in price: 1.00%\n",
      "change in bp: -10\tcoupon: 0.06\tMaturity:5  \tDV01: 0.3674 \tpercentage change in price: 0.42%\n",
      "change in bp: -10\tcoupon: 0.06\tMaturity:25  \tDV01: 0.7535 \tpercentage change in price: 1.07%\n",
      "change in bp: -10\tcoupon: 0\tMaturity:5  \tDV01: 0.3089 \tpercentage change in price: 0.48%\n",
      "change in bp: -10\tcoupon: 0\tMaturity:25  \tDV01: 0.2681 \tpercentage change in price: 2.42%\n",
      "\n",
      "change in bp: -1\tcoupon: 0.09\tMaturity:5  \tDV01: 0.0396 \tpercentage change in price: 0.04%\n",
      "change in bp: -1\tcoupon: 0.09\tMaturity:25  \tDV01: 0.0989 \tpercentage change in price: 0.10%\n",
      "change in bp: -1\tcoupon: 0.06\tMaturity:5  \tDV01: 0.0367 \tpercentage change in price: 0.04%\n",
      "change in bp: -1\tcoupon: 0.06\tMaturity:25  \tDV01: 0.0748 \tpercentage change in price: 0.11%\n",
      "change in bp: -1\tcoupon: 0\tMaturity:5  \tDV01: 0.0308 \tpercentage change in price: 0.05%\n",
      "change in bp: -1\tcoupon: 0\tMaturity:25  \tDV01: 0.0265 \tpercentage change in price: 0.24%\n",
      "\n",
      "change in bp: 1\tcoupon: 0.09\tMaturity:5  \tDV01: -0.0396 \tpercentage change in price: -0.04%\n",
      "change in bp: 1\tcoupon: 0.09\tMaturity:25  \tDV01: -0.0987 \tpercentage change in price: -0.10%\n",
      "change in bp: 1\tcoupon: 0.06\tMaturity:5  \tDV01: -0.0366 \tpercentage change in price: -0.04%\n",
      "change in bp: 1\tcoupon: 0.06\tMaturity:25  \tDV01: -0.0746 \tpercentage change in price: -0.11%\n",
      "change in bp: 1\tcoupon: 0\tMaturity:5  \tDV01: -0.0308 \tpercentage change in price: -0.05%\n",
      "change in bp: 1\tcoupon: 0\tMaturity:25  \tDV01: -0.0265 \tpercentage change in price: -0.24%\n",
      "\n",
      "change in bp: 10\tcoupon: 0.09\tMaturity:5  \tDV01: -0.3947 \tpercentage change in price: -0.39%\n",
      "change in bp: 10\tcoupon: 0.09\tMaturity:25  \tDV01: -0.9801 \tpercentage change in price: -0.98%\n",
      "change in bp: 10\tcoupon: 0.06\tMaturity:5  \tDV01: -0.3655 \tpercentage change in price: -0.41%\n",
      "change in bp: 10\tcoupon: 0.06\tMaturity:25  \tDV01: -0.7406 \tpercentage change in price: -1.05%\n",
      "change in bp: 10\tcoupon: 0\tMaturity:5  \tDV01: -0.3073 \tpercentage change in price: -0.48%\n",
      "change in bp: 10\tcoupon: 0\tMaturity:25  \tDV01: -0.2617 \tpercentage change in price: -2.36%\n",
      "\n",
      "change in bp: 50\tcoupon: 0.09\tMaturity:5  \tDV01: -1.9541 \tpercentage change in price: -1.95%\n",
      "change in bp: 50\tcoupon: 0.09\tMaturity:25  \tDV01: -4.7461 \tpercentage change in price: -4.75%\n",
      "change in bp: 50\tcoupon: 0.06\tMaturity:5  \tDV01: -1.8095 \tpercentage change in price: -2.05%\n",
      "change in bp: 50\tcoupon: 0.06\tMaturity:25  \tDV01: -3.5796 \tpercentage change in price: -5.09%\n",
      "change in bp: 50\tcoupon: 0\tMaturity:5  \tDV01: -1.5204 \tpercentage change in price: -2.36%\n",
      "change in bp: 50\tcoupon: 0\tMaturity:25  \tDV01: -1.2467 \tpercentage change in price: -11.26%\n",
      "\n",
      "change in bp: 100\tcoupon: 0.09\tMaturity:5  \tDV01: -3.8609 \tpercentage change in price: -3.86%\n",
      "change in bp: 100\tcoupon: 0.09\tMaturity:25  \tDV01: -9.1280 \tpercentage change in price: -9.13%\n",
      "change in bp: 100\tcoupon: 0.06\tMaturity:5  \tDV01: -3.5744 \tpercentage change in price: -4.06%\n",
      "change in bp: 100\tcoupon: 0.06\tMaturity:25  \tDV01: -6.8688 \tpercentage change in price: -9.76%\n",
      "change in bp: 100\tcoupon: 0\tMaturity:5  \tDV01: -3.0014 \tpercentage change in price: -4.66%\n",
      "change in bp: 100\tcoupon: 0\tMaturity:25  \tDV01: -2.3506 \tpercentage change in price: -21.23%\n",
      "\n",
      "change in bp: 200\tcoupon: 0.09\tMaturity:5  \tDV01: -7.5376 \tpercentage change in price: -7.54%\n",
      "change in bp: 200\tcoupon: 0.09\tMaturity:25  \tDV01: -16.9315 \tpercentage change in price: -16.93%\n",
      "change in bp: 200\tcoupon: 0.06\tMaturity:5  \tDV01: -6.9750 \tpercentage change in price: -7.91%\n",
      "change in bp: 200\tcoupon: 0.06\tMaturity:25  \tDV01: -12.6858 \tpercentage change in price: -18.03%\n",
      "change in bp: 200\tcoupon: 0\tMaturity:5  \tDV01: -5.8497 \tpercentage change in price: -9.08%\n",
      "change in bp: 200\tcoupon: 0\tMaturity:25  \tDV01: -4.1943 \tpercentage change in price: -37.89%\n",
      "\n",
      "change in bp: 300\tcoupon: 0.09\tMaturity:5  \tDV01: -11.0401 \tpercentage change in price: -11.04%\n",
      "change in bp: 300\tcoupon: 0.09\tMaturity:25  \tDV01: -23.6428 \tpercentage change in price: -23.64%\n",
      "change in bp: 300\tcoupon: 0.06\tMaturity:5  \tDV01: -10.2112 \tpercentage change in price: -11.59%\n",
      "change in bp: 300\tcoupon: 0.06\tMaturity:25  \tDV01: -17.6426 \tpercentage change in price: -25.08%\n",
      "change in bp: 300\tcoupon: 0\tMaturity:5  \tDV01: -8.5533 \tpercentage change in price: -13.28%\n",
      "change in bp: 300\tcoupon: 0\tMaturity:25  \tDV01: -5.6421 \tpercentage change in price: -50.96%\n",
      "\n"
     ]
    }
   ],
   "source": [
    "ChangeInBP = [-300, -200, -100, -50, -10, -1, 1, 10, 50, 100, 200, 300]\n",
    "Bond1 = Bond(0.09, 0.09, 5, 100)\n",
    "Bond2 = Bond(0.09, 0.09, 25, 100)\n",
    "Bond3 = Bond(0.06, 0.09, 5, 100)\n",
    "Bond4 = Bond(0.06, 0.09, 25, 100)\n",
    "Bond5 = Bond(0, 0.09, 5, 100)\n",
    "Bond6 = Bond(0, 0.09, 25, 100)\n",
    "Bond_portfolio = [Bond1, Bond2, Bond3, Bond4, Bond5, Bond6]\n",
    "for bp in ChangeInBP:\n",
    "    for x in Bond_portfolio:\n",
    "        print(f\"change in bp: {bp}\\tcoupon: {x.coupon_rate}\\tMaturity:{x.maturity}  \\tDV01: {x.dv01(bp = bp):.4f} \\tpercentage change in price: {x.dv01(bp = bp)/x.price*100 :.2f}%\")\n",
    "    print()"
   ]
  },
  {
   "cell_type": "code",
   "execution_count": 5,
   "metadata": {},
   "outputs": [
    {
     "name": "stdout",
     "output_type": "stream",
     "text": [
      "5-year  \t9.0%  \tInitial Price: 100.0000  \tnew price: 99.9604 DV01:-0.0396\n",
      "25-year  \t9.0%  \tInitial Price: 100.0000  \tnew price: 99.9013 DV01:-0.0987\n",
      "5-year  \t6.0%  \tInitial Price: 88.1309  \tnew price: 88.0943 DV01:-0.0366\n",
      "25-year  \t6.0%  \tInitial Price: 70.3570  \tnew price: 70.2824 DV01:-0.0746\n",
      "5-year  \t0%  \tInitial Price: 64.3928  \tnew price: 64.3620 DV01:-0.0308\n",
      "25-year  \t0%  \tInitial Price: 11.0710  \tnew price: 11.0445 DV01:-0.0265\n"
     ]
    }
   ],
   "source": [
    "Bond1 = Bond(0.09, 0.09, 5, 100)\n",
    "Bond2 = Bond(0.09, 0.09, 25, 100)\n",
    "Bond3 = Bond(0.06, 0.09, 5, 100)\n",
    "Bond4 = Bond(0.06, 0.09, 25, 100)\n",
    "Bond5 = Bond(0, 0.09, 5, 100)\n",
    "Bond6 = Bond(0, 0.09, 25, 100)\n",
    "Bond_portfolio = [Bond1, Bond2, Bond3, Bond4, Bond5, Bond6]\n",
    "for b in Bond_portfolio:\n",
    "    print(f'{b.maturity}-year  \\t{b.coupon_rate*100}%  \\tInitial Price: {b.price:.4f}  \\tnew price: {b._calculate_price_from_ytm(0.0901):.4f} DV01:{b.dv01():.4f}')"
   ]
  },
  {
   "cell_type": "code",
   "execution_count": 7,
   "metadata": {},
   "outputs": [
    {
     "name": "stdout",
     "output_type": "stream",
     "text": [
      "4.134395247540063\n",
      "3.956359088555084\n"
     ]
    }
   ],
   "source": [
    "Bond4p5 = Bond(coupon_rate=0.09, ytm=0.09, maturity=5, par=100)\n",
    "print(Bond4p5.macaulay_duration)\n",
    "print(Bond4p5.modified_duration)"
   ]
  },
  {
   "cell_type": "code",
   "execution_count": 8,
   "metadata": {},
   "outputs": [
    {
     "name": "stdout",
     "output_type": "stream",
     "text": [
      "4.345212988734008\n",
      "4.158098553812448\n"
     ]
    }
   ],
   "source": [
    "Bond4p6 = Bond(coupon_rate=0.06, ytm=0.09, maturity=5, par=100)\n",
    "print(Bond4p6.macaulay_duration)\n",
    "print(Bond4p6.modified_duration)"
   ]
  },
  {
   "cell_type": "code",
   "execution_count": 9,
   "metadata": {},
   "outputs": [
    {
     "name": "stdout",
     "output_type": "stream",
     "text": [
      "5-year  \t9.0%  \tMacaulay Duration: 4.1344  \tModified Duration: 3.9564\n",
      "25-year  \t9.0%  \tMacaulay Duration: 10.3256  \tModified Duration: 9.8810\n",
      "5-year  \t6.0%  \tMacaulay Duration: 4.3452  \tModified Duration: 4.1581\n",
      "25-year  \t6.0%  \tMacaulay Duration: 11.0953  \tModified Duration: 10.6175\n",
      "5-year  \t0%  \tMacaulay Duration: 5.0000  \tModified Duration: 4.7847\n",
      "25-year  \t0%  \tMacaulay Duration: 25.0000  \tModified Duration: 23.9234\n"
     ]
    }
   ],
   "source": [
    "Bond1 = Bond(0.09, 0.09, 5, 100)\n",
    "Bond2 = Bond(0.09, 0.09, 25, 100)\n",
    "Bond3 = Bond(0.06, 0.09, 5, 100)\n",
    "Bond4 = Bond(0.06, 0.09, 25, 100)\n",
    "Bond5 = Bond(0, 0.09, 5, 100)\n",
    "Bond6 = Bond(0, 0.09, 25, 100)\n",
    "Bond_portfolio = [Bond1, Bond2, Bond3, Bond4, Bond5, Bond6]\n",
    "for b in Bond_portfolio:\n",
    "    print(f'{b.maturity}-year  \\t{b.coupon_rate*100}%  \\tMacaulay Duration: {b.macaulay_duration:.4f}  \\tModified Duration: {b.modified_duration:.4f}')"
   ]
  },
  {
   "cell_type": "code",
   "execution_count": 11,
   "metadata": {},
   "outputs": [
    {
     "name": "stdout",
     "output_type": "stream",
     "text": [
      "YTM: 7% \tModified Duration: 11.21\n",
      "YTM: 8% \tModified Duration: 10.53\n",
      "YTM: 9% \tModified Duration: 9.88\n",
      "YTM: 10% \tModified Duration: 9.27\n",
      "YTM: 11% \tModified Duration: 8.70\n",
      "YTM: 12% \tModified Duration: 8.16\n",
      "YTM: 13% \tModified Duration: 7.66\n",
      "YTM: 14% \tModified Duration: 7.21\n"
     ]
    }
   ],
   "source": [
    "y_range = range(7, 15)\n",
    "Bond25y9 = Bond(coupon_rate=0.09, ytm=0.09, maturity=25, par=100)\n",
    "for y in y_range:\n",
    "    Bond25y9.set_ytm(y/100)\n",
    "    print(f'YTM: {y}% \\tModified Duration: {Bond25y9.modified_duration:.2f}')"
   ]
  },
  {
   "cell_type": "code",
   "execution_count": 12,
   "metadata": {},
   "outputs": [
    {
     "name": "stdout",
     "output_type": "stream",
     "text": [
      "-0.018147337657353546\n",
      "1.7965864280812553\n"
     ]
    }
   ],
   "source": [
    "q2BondA = Bond(0.08, 0.08, 2, 100, 100)\n",
    "q2BondB = Bond(0.09, 0.08, 2, 100, 100)\n",
    "\n",
    "print(q2BondA.dv01())\n",
    "print(q2BondB.dv01())"
   ]
  },
  {
   "cell_type": "code",
   "execution_count": 13,
   "metadata": {},
   "outputs": [
    {
     "name": "stdout",
     "output_type": "stream",
     "text": [
      "19.452564325142994\n",
      "20.848106137219354\n"
     ]
    }
   ],
   "source": [
    "Bond4p14 = Bond(coupon_rate=0.09, ytm=0.09, maturity=5, par=100)\n",
    "print(Bond4p14._calculate_convexity())\n",
    "Bond4p15 = Bond(coupon_rate=0.06, ytm=0.09, maturity=5, par=100)\n",
    "print(Bond4p15._calculate_convexity())"
   ]
  },
  {
   "cell_type": "code",
   "execution_count": 14,
   "metadata": {},
   "outputs": [
    {
     "name": "stdout",
     "output_type": "stream",
     "text": [
      "5-year  \t9.0%  \tprice: 100.0000  \tConvexity: 19.4526\n",
      "25-year  \t9.0%  \tprice: 100.0000  \tConvexity: 160.7211\n",
      "5-year  \t6.0%  \tprice: 88.1309  \tConvexity: 20.8481\n",
      "25-year  \t6.0%  \tprice: 70.3570  \tConvexity: 182.9110\n",
      "5-year  \t0%  \tprice: 64.3928  \tConvexity: 25.1826\n",
      "25-year  \t0%  \tprice: 11.0710  \tConvexity: 583.7778\n"
     ]
    }
   ],
   "source": [
    "Bond1 = Bond(0.09, 0.09, 5, 100)\n",
    "Bond2 = Bond(0.09, 0.09, 25, 100)\n",
    "Bond3 = Bond(0.06, 0.09, 5, 100)\n",
    "Bond4 = Bond(0.06, 0.09, 25, 100)\n",
    "Bond5 = Bond(0, 0.09, 5, 100)\n",
    "Bond6 = Bond(0, 0.09, 25, 100)\n",
    "Bond_portfolio = [Bond1, Bond2, Bond3, Bond4, Bond5, Bond6]\n",
    "for b in Bond_portfolio:\n",
    "    print(f'{b.maturity}-year  \\t{b.coupon_rate*100}%  \\tprice: {b.price:.4f}  \\tConvexity: {b._calculate_convexity():.4f}')"
   ]
  }
 ],
 "metadata": {
  "kernelspec": {
   "display_name": "fre7773",
   "language": "python",
   "name": "python3"
  },
  "language_info": {
   "codemirror_mode": {
    "name": "ipython",
    "version": 3
   },
   "file_extension": ".py",
   "mimetype": "text/x-python",
   "name": "python",
   "nbconvert_exporter": "python",
   "pygments_lexer": "ipython3",
   "version": "3.13.0"
  }
 },
 "nbformat": 4,
 "nbformat_minor": 2
}
